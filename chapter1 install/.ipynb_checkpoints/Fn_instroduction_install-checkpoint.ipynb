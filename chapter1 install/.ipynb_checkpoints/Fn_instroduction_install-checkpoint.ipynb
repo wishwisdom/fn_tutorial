{
 "cells": [
  {
   "cell_type": "markdown",
   "metadata": {},
   "source": [
    "# Introduction To Fn\n",
    "\n",
    "## 어떤 밋업 갔다가 알게 되 opensource라서 한번 돌려 보고 싶어서 여기에 쓰는 것임\n",
    "\n",
    "## 1. install jupyter kernal for golang\n",
    "\n",
    "### Jupyter에 golang kernel 설치 먼저 함.\n",
    "\n",
    "origin project url:  https://github.com/fnproject/tutorials/blob/master/Introduction/README.md"
   ]
  },
  {
   "cell_type": "markdown",
   "metadata": {},
   "source": [
    "```bash\n",
    "go get -u github.com/gopherdata/gophernotes\n",
    "\n",
    "mkdir -p ~/.local/share/jupyter/kernels/gophernotes\n",
    "\n",
    "cp $GOPATH/src/github.com/gopherdata/gophernotes/kernel/* ~/.local/share/jupyter/kernels/gophernotes  \n",
    "```\n",
    "\n",
    "**참조** GOPATH가 글로벌로 설정되어있지 않다면 GOPATH 위치를 알아야 하는데 다음과 같은 명령어를 치면 된다.\n",
    "```golang\n",
    "go env |grep GOPATH\n",
    "```\n",
    "---"
   ]
  },
  {
   "cell_type": "markdown",
   "metadata": {},
   "source": [
    "만약 go get -u github.com./gopherdata/gophernotes를 할 때 \n",
    "'**libzmq was installed under /usr/local/lib,\n",
    "/usr/local/lib/pkgconfig/libzmq.pc exists.\n",
    "PKG_CONFIG_PATH sets to /usr/local/lib/pkgconfig**' \n",
    "처럼 나올 때, \n",
    "\n",
    "https://stackoverflow.com/questions/24250838/problems-installing-gozmq-with-go-get 참고함\n",
    "\n",
    "brew를 설치하고\n",
    "\n",
    "아래 사이트 가서 libzmq를 받아 컴파일 했고, compile에 필요한 **automake autoconf libtool**을 설치함\n",
    "http://zeromq.org/docs:source-git\n",
    "```bash\n",
    "sudo apt install automake\n",
    "sudo apt install autoconf\n",
    "sudo apt install libtool\n",
    "```\n"
   ]
  }
 ],
 "metadata": {
  "kernelspec": {
   "display_name": "Python 3",
   "language": "python",
   "name": "python3"
  },
  "language_info": {
   "codemirror_mode": {
    "name": "ipython",
    "version": 3
   },
   "file_extension": ".py",
   "mimetype": "text/x-python",
   "name": "python",
   "nbconvert_exporter": "python",
   "pygments_lexer": "ipython3",
   "version": "3.6.3"
  }
 },
 "nbformat": 4,
 "nbformat_minor": 2
}

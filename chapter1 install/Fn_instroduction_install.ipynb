{
 "cells": [
  {
   "cell_type": "markdown",
   "metadata": {},
   "source": [
    "# Introduction To Fn\n",
    "\n",
    "## 어떤 밋업 갔다가 알게 되 opensource라서 한번 돌려 보고 싶어서 여기에 쓰는 것임\n",
    "\n",
    "## 1. install jupyter kernal for golang\n",
    "\n",
    "### Jupyter에 golang kernel 설치 먼저 함.\n",
    "\n",
    "origin project url:  https://github.com/fnproject/tutorials/blob/master/Introduction/README.md"
   ]
  },
  {
   "cell_type": "markdown",
   "metadata": {},
   "source": [
    "```bash\n",
    "go get -u github.com/gopherdata/gophernotes\n",
    "\n",
    "mkdir -p ~/.local/share/jupyter/kernels/gophernotes\n",
    "\n",
    "cp $GOPATH/src/github.com/gopherdata/gophernotes/kernel/* ~/.local/share/jupyter/kernels/gophernotes  \n",
    "```\n",
    "\n",
    "**참조** GOPATH가 글로벌로 설정되어있지 않다면 GOPATH 위치를 알아야 하는데 다음과 같은 명령어를 치면 된다.\n",
    "```golang\n",
    "go env |grep GOPATH\n",
    "```\n",
    "jupyter 재시작해서 커널이 제대로 읽어오는 지 확인 필요!!\n",
    "---"
   ]
  },
  {
   "cell_type": "markdown",
   "metadata": {},
   "source": [
    "만약 go get -u github.com./gopherdata/gophernotes를 할 때 \n",
    "'**libzmq was installed under /usr/local/lib,\n",
    "/usr/local/lib/pkgconfig/libzmq.pc exists.\n",
    "PKG_CONFIG_PATH sets to /usr/local/lib/pkgconfig**' \n",
    "처럼 나올 때, \n",
    "\n",
    "https://stackoverflow.com/questions/24250838/problems-installing-gozmq-with-go-get 참고함\n",
    "\n",
    "\n",
    "아래 사이트 가서 libzmq를 받아 컴파일 했고, compile에 필요한 **build-essential, libtool, autoconf, automake, and uuid-dev**을 설치함\n",
    "http://zeromq.org/docs:source-git\n",
    "```bash\n",
    "sudo apt install automake\n",
    "sudo apt install autoconf\n",
    "sudo apt install libtool\n",
    "```\n"
   ]
  },
  {
   "cell_type": "markdown",
   "metadata": {},
   "source": [
    "### \"Kernel error\" in a running notebook\n",
    "\n",
    "커널 에러가 나서 문제가 먼가 했는데, gophernotes가 심볼릭 링크를 못 찾아서 그런 것!\n",
    "그리고 이런 문제가 많았던지 go kernel 설치하는 github에 README.md 마지막 줄에 아래와 같이 있음.\n",
    "\n",
    "```\n",
    "Traceback (most recent call last):\n",
    "  File \"/usr/local/lib/python2.7/site-packages/notebook/base/handlers.py\", line 458, in wrapper\n",
    "    result = yield gen.maybe_future(method(self, *args, **kwargs))\n",
    "  File \"/usr/local/lib/python2.7/site-packages/tornado/gen.py\", line 1008, in run\n",
    "    value = future.result()\n",
    "  ...\n",
    "  File \"/usr/local/Cellar/python/2.7.11/Frameworks/Python.framework/Versions/2.7/lib/python2.7/subprocess.py\", line 1335, in _execute_child\n",
    "    raise child_exception\n",
    "OSError: [Errno 2] No such file or directory\n",
    "```\n",
    "\n",
    "Stop jupyter, if it's already running.\n",
    "\n",
    "Add a symlink to `/go/bin/gophernotes` from your path to the gophernotes executable. If you followed the instructions above, this will be:\n",
    "\n",
    "```\n",
    "sudo ln -s $HOME/go/bin/gophernotes /go/bin/gophernotes\n",
    "```\n",
    "\n",
    "Restart jupyter, and you should now be up and running."
   ]
  },
  {
   "cell_type": "markdown",
   "metadata": {},
   "source": [
    "## 2. Docker Install"
   ]
  },
  {
   "cell_type": "code",
   "execution_count": 1,
   "metadata": {},
   "outputs": [
    {
     "name": "stdout",
     "output_type": "stream",
     "text": [
      "# Executing docker install script, commit: 1d31602\n",
      "+ sh -c apt-get update -qq >/dev/null\n",
      "+ sh -c apt-get install -y -qq apt-transport-https ca-certificates curl >/dev/null\n",
      "+ sh -c curl -fsSL \"https://download.docker.com/linux/ubuntu/gpg\" | apt-key add -qq - >/dev/null\n",
      "+ sh -c echo \"deb [arch=amd64] https://download.docker.com/linux/ubuntu xenial edge\" > /etc/apt/sources.list.d/docker.list\n",
      "+ [ ubuntu = debian ]\n",
      "+ sh -c apt-get update -qq >/dev/null\n",
      "+ sh -c apt-get install -y -qq --no-install-recommends docker-ce >/dev/null\n",
      "+ sh -c docker version\n",
      "Client:\n",
      " Version:\t17.12.0-ce\n",
      " API version:\t1.35\n",
      " Go version:\tgo1.9.2\n",
      " Git commit:\tc97c6d6\n",
      " Built:\tWed Dec 27 20:11:19 2017\n",
      " OS/Arch:\tlinux/amd64\n",
      "\n",
      "Server:\n",
      " Engine:\n",
      "  Version:\t17.12.0-ce\n",
      "  API version:\t1.35 (minimum version 1.12)\n",
      "  Go version:\tgo1.9.2\n",
      "  Git commit:\tc97c6d6\n",
      "  Built:\tWed Dec 27 20:09:53 2017\n",
      "  OS/Arch:\tlinux/amd64\n",
      "  Experimental:\tfalse\n",
      "If you would like to use Docker as a non-root user, you should now consider\n",
      "adding your user to the \"docker\" group with something like:\n",
      "\n",
      "  sudo usermod -aG docker your-user\n",
      "\n",
      "Remember that you will have to log out and back in for this to take effect!\n",
      "\n",
      "WARNING: Adding a user to the \"docker\" group will grant the ability to run\n",
      "         containers which can be used to obtain root privileges on the\n",
      "         docker host.\n",
      "         Refer to https://docs.docker.com/engine/security/security/#docker-daemon-attack-surface\n",
      "         for more information.\n"
     ]
    }
   ],
   "source": [
    "!curl -fsSL https://get.docker.com/ | sudo sh"
   ]
  },
  {
   "cell_type": "markdown",
   "metadata": {},
   "source": [
    "## 3. Fn Download and Install"
   ]
  },
  {
   "cell_type": "code",
   "execution_count": 4,
   "metadata": {},
   "outputs": [
    {
     "name": "stdout",
     "output_type": "stream",
     "text": [
      "fn version 0.4.34\r\n",
      "\r\n",
      "        ______\r\n",
      "       / ____/___\r\n",
      "      / /_  / __ \\\r\n",
      "     / __/ / / / /\r\n",
      "    /_/   /_/ /_/`\r\n",
      "\r\n"
     ]
    }
   ],
   "source": [
    "!curl -LSs https://raw.githubusercontent.com/fnproject/cli/master/install | sh"
   ]
  },
  {
   "cell_type": "markdown",
   "metadata": {},
   "source": [
    "## 4. Fn start\n",
    "\n",
    "```bash\n",
    "$ sudo fn start\n",
    "```"
   ]
  },
  {
   "cell_type": "markdown",
   "metadata": {},
   "source": [
    "![FN 실행](fn_start.png)"
   ]
  },
  {
   "cell_type": "markdown",
   "metadata": {},
   "source": [
    "**다음 파일에 golang을 사용해서 테스트할 예정**"
   ]
  },
  {
   "cell_type": "code",
   "execution_count": null,
   "metadata": {
    "collapsed": true
   },
   "outputs": [],
   "source": []
  }
 ],
 "metadata": {
  "kernelspec": {
   "display_name": "Python 3",
   "language": "python",
   "name": "python3"
  },
  "language_info": {
   "codemirror_mode": {
    "name": "ipython",
    "version": 3
   },
   "file_extension": ".py",
   "mimetype": "text/x-python",
   "name": "python",
   "nbconvert_exporter": "python",
   "pygments_lexer": "ipython3",
   "version": "3.6.3"
  }
 },
 "nbformat": 4,
 "nbformat_minor": 2
}
